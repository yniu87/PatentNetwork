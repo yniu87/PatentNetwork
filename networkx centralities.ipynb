{
 "cells": [
  {
   "cell_type": "code",
   "execution_count": 143,
   "metadata": {},
   "outputs": [],
   "source": [
    "import networkx as nx\n",
    "import pandas as pd"
   ]
  },
  {
   "cell_type": "code",
   "execution_count": 144,
   "metadata": {},
   "outputs": [],
   "source": [
    "#Read in data\n",
    "cumsum = pd.read_csv('../Citation_data/citation_cumsum.csv')"
   ]
  },
  {
   "cell_type": "code",
   "execution_count": 145,
   "metadata": {},
   "outputs": [
    {
     "data": {
      "text/plain": [
       "NodeView((0, 1, 2, 3, 4, 5, 6, 7, 8, 9, 10, 11, 12, 13, 14, 15, 16, 17, 18, 19, 20, 21, 22, 23, 24, 25, 26, 27, 28, 29, 30, 31, 32, 33, 34, 35, 36, 37))"
      ]
     },
     "execution_count": 145,
     "metadata": {},
     "output_type": "execute_result"
    }
   ],
   "source": [
    "#Create graph and add nodes\n",
    "G = nx.MultiDiGraph()\n",
    "G.clear()\n",
    "for node in list(cumsum.index):\n",
    "    G.add_node(node)\n",
    "G.nodes()"
   ]
  },
  {
   "cell_type": "code",
   "execution_count": 146,
   "metadata": {},
   "outputs": [],
   "source": [
    "#Add edges with weights\n",
    "for node_1 in list(cumsum.index):\n",
    "    for node_2 in list(cumsum.index):\n",
    "        G.add_edge(node_1, node_2, weight=cumsum.iat[node_1 -10, node_2 - 10])\n",
    "\n",
    "#Calculate edge betweenness centrality\n",
    "ebc = nx.edge_betweenness_centrality(G, weight='weight') #this weight is wrong"
   ]
  },
  {
   "cell_type": "code",
   "execution_count": 147,
   "metadata": {},
   "outputs": [],
   "source": [
    "#Read in data\n",
    "string = '../Citation_data/5_year_citation_snapshot'\n",
    "csv = '.csv'\n",
    "year = np.array([1980, 1985, 1990, 1995, 2000, 2005, 2010])\n",
    "\n",
    "d = {}\n",
    "for y in year:\n",
    "    fName = string + str(y) + csv \n",
    "    temp = pd.read_csv(fName) \n",
    "    \n",
    "    #Create graph and add nodes\n",
    "    G = nx.MultiDiGraph()\n",
    "    G.clear()\n",
    "    for node in list(temp.index):\n",
    "        G.add_node(node)\n",
    "    G.nodes()\n",
    "    \n",
    "    #Add edges with weights\n",
    "    for node_1 in list(temp.index):\n",
    "        for node_2 in list(temp.index):\n",
    "            G.add_edge(node_1, node_2, weight = temp.iat[node_1 -10, node_2 - 10])\n",
    "    \n",
    "    #Calculate edge betweenness centrality\n",
    "    name = 'ebc' + str(y)\n",
    "    d[name] = nx.edge_betweenness_centrality(G, weight='weight') #this weight is wrong"
   ]
  },
  {
   "cell_type": "code",
   "execution_count": 154,
   "metadata": {},
   "outputs": [
    {
     "data": {
      "text/plain": [
       "True"
      ]
     },
     "execution_count": 154,
     "metadata": {},
     "output_type": "execute_result"
    }
   ],
   "source": [
    "#Check if weights were properly added, if they are, this should be false\n",
    "d['ebc1980']==d['ebc1985']"
   ]
  }
 ],
 "metadata": {
  "kernelspec": {
   "display_name": "Python 3",
   "language": "python",
   "name": "python3"
  },
  "language_info": {
   "codemirror_mode": {
    "name": "ipython",
    "version": 3
   },
   "file_extension": ".py",
   "mimetype": "text/x-python",
   "name": "python",
   "nbconvert_exporter": "python",
   "pygments_lexer": "ipython3",
   "version": "3.8.3"
  }
 },
 "nbformat": 4,
 "nbformat_minor": 4
}
