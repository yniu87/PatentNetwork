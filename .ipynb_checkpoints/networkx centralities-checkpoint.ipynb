{
 "cells": [
  {
   "cell_type": "code",
   "execution_count": 1,
   "metadata": {},
   "outputs": [],
   "source": [
    "import networkx as nx\n",
    "import pandas as pd\n",
    "import numpy as np\n",
    "import seaborn as sns\n",
    "import csv"
   ]
  },
  {
   "cell_type": "code",
   "execution_count": 2,
   "metadata": {
    "scrolled": true
   },
   "outputs": [
    {
     "data": {
      "text/html": [
       "<div>\n",
       "<style scoped>\n",
       "    .dataframe tbody tr th:only-of-type {\n",
       "        vertical-align: middle;\n",
       "    }\n",
       "\n",
       "    .dataframe tbody tr th {\n",
       "        vertical-align: top;\n",
       "    }\n",
       "\n",
       "    .dataframe thead th {\n",
       "        text-align: right;\n",
       "    }\n",
       "</style>\n",
       "<table border=\"1\" class=\"dataframe\">\n",
       "  <thead>\n",
       "    <tr style=\"text-align: right;\">\n",
       "      <th></th>\n",
       "      <th>11.0</th>\n",
       "      <th>12.0</th>\n",
       "      <th>13.0</th>\n",
       "      <th>14.0</th>\n",
       "      <th>15.0</th>\n",
       "      <th>19.0</th>\n",
       "      <th>21.0</th>\n",
       "      <th>22.0</th>\n",
       "      <th>23.0</th>\n",
       "      <th>24.0</th>\n",
       "      <th>...</th>\n",
       "      <th>61.0</th>\n",
       "      <th>62.0</th>\n",
       "      <th>63.0</th>\n",
       "      <th>64.0</th>\n",
       "      <th>65.0</th>\n",
       "      <th>66.0</th>\n",
       "      <th>67.0</th>\n",
       "      <th>68.0</th>\n",
       "      <th>69.0</th>\n",
       "      <th>70.0</th>\n",
       "    </tr>\n",
       "  </thead>\n",
       "  <tbody>\n",
       "    <tr>\n",
       "      <th>0</th>\n",
       "      <td>34450.0</td>\n",
       "      <td>1820.0</td>\n",
       "      <td>67.0</td>\n",
       "      <td>5264</td>\n",
       "      <td>1761.0</td>\n",
       "      <td>7671.0</td>\n",
       "      <td>75</td>\n",
       "      <td>343</td>\n",
       "      <td>162</td>\n",
       "      <td>31</td>\n",
       "      <td>...</td>\n",
       "      <td>1526</td>\n",
       "      <td>18</td>\n",
       "      <td>2148.0</td>\n",
       "      <td>218.0</td>\n",
       "      <td>139.0</td>\n",
       "      <td>47.0</td>\n",
       "      <td>12.0</td>\n",
       "      <td>144.0</td>\n",
       "      <td>2759</td>\n",
       "      <td>4.0</td>\n",
       "    </tr>\n",
       "    <tr>\n",
       "      <th>1</th>\n",
       "      <td>1217.0</td>\n",
       "      <td>118776.0</td>\n",
       "      <td>1222.0</td>\n",
       "      <td>2779</td>\n",
       "      <td>20559.0</td>\n",
       "      <td>41959.0</td>\n",
       "      <td>1810</td>\n",
       "      <td>2728</td>\n",
       "      <td>6407</td>\n",
       "      <td>1578</td>\n",
       "      <td>...</td>\n",
       "      <td>1574</td>\n",
       "      <td>372</td>\n",
       "      <td>774.0</td>\n",
       "      <td>6087.0</td>\n",
       "      <td>1434.0</td>\n",
       "      <td>1253.0</td>\n",
       "      <td>420.0</td>\n",
       "      <td>991.0</td>\n",
       "      <td>34622</td>\n",
       "      <td>2.0</td>\n",
       "    </tr>\n",
       "    <tr>\n",
       "      <th>2</th>\n",
       "      <td>75.0</td>\n",
       "      <td>1017.0</td>\n",
       "      <td>69811.0</td>\n",
       "      <td>544</td>\n",
       "      <td>488.0</td>\n",
       "      <td>18330.0</td>\n",
       "      <td>297</td>\n",
       "      <td>564</td>\n",
       "      <td>164</td>\n",
       "      <td>274</td>\n",
       "      <td>...</td>\n",
       "      <td>354</td>\n",
       "      <td>43</td>\n",
       "      <td>104.0</td>\n",
       "      <td>994.0</td>\n",
       "      <td>219.0</td>\n",
       "      <td>1472.0</td>\n",
       "      <td>319.0</td>\n",
       "      <td>361.0</td>\n",
       "      <td>6639</td>\n",
       "      <td>0.0</td>\n",
       "    </tr>\n",
       "    <tr>\n",
       "      <th>3</th>\n",
       "      <td>5208.0</td>\n",
       "      <td>4352.0</td>\n",
       "      <td>710.0</td>\n",
       "      <td>145211</td>\n",
       "      <td>25333.0</td>\n",
       "      <td>38513.0</td>\n",
       "      <td>452</td>\n",
       "      <td>918</td>\n",
       "      <td>721</td>\n",
       "      <td>226</td>\n",
       "      <td>...</td>\n",
       "      <td>2347</td>\n",
       "      <td>68</td>\n",
       "      <td>48.0</td>\n",
       "      <td>616.0</td>\n",
       "      <td>52.0</td>\n",
       "      <td>71.0</td>\n",
       "      <td>33.0</td>\n",
       "      <td>84.0</td>\n",
       "      <td>4607</td>\n",
       "      <td>11.0</td>\n",
       "    </tr>\n",
       "    <tr>\n",
       "      <th>4</th>\n",
       "      <td>1936.0</td>\n",
       "      <td>24014.0</td>\n",
       "      <td>1073.0</td>\n",
       "      <td>20076</td>\n",
       "      <td>316181.0</td>\n",
       "      <td>57656.0</td>\n",
       "      <td>2351</td>\n",
       "      <td>1074</td>\n",
       "      <td>2768</td>\n",
       "      <td>434</td>\n",
       "      <td>...</td>\n",
       "      <td>1749</td>\n",
       "      <td>4557</td>\n",
       "      <td>816.0</td>\n",
       "      <td>5203.0</td>\n",
       "      <td>592.0</td>\n",
       "      <td>277.0</td>\n",
       "      <td>730.0</td>\n",
       "      <td>1080.0</td>\n",
       "      <td>55051</td>\n",
       "      <td>3.0</td>\n",
       "    </tr>\n",
       "  </tbody>\n",
       "</table>\n",
       "<p>5 rows × 38 columns</p>\n",
       "</div>"
      ],
      "text/plain": [
       "      11.0      12.0     13.0    14.0      15.0     19.0  21.0  22.0  23.0  \\\n",
       "0  34450.0    1820.0     67.0    5264    1761.0   7671.0    75   343   162   \n",
       "1   1217.0  118776.0   1222.0    2779   20559.0  41959.0  1810  2728  6407   \n",
       "2     75.0    1017.0  69811.0     544     488.0  18330.0   297   564   164   \n",
       "3   5208.0    4352.0    710.0  145211   25333.0  38513.0   452   918   721   \n",
       "4   1936.0   24014.0   1073.0   20076  316181.0  57656.0  2351  1074  2768   \n",
       "\n",
       "   24.0  ...  61.0  62.0    63.0    64.0    65.0    66.0   67.0    68.0  \\\n",
       "0    31  ...  1526    18  2148.0   218.0   139.0    47.0   12.0   144.0   \n",
       "1  1578  ...  1574   372   774.0  6087.0  1434.0  1253.0  420.0   991.0   \n",
       "2   274  ...   354    43   104.0   994.0   219.0  1472.0  319.0   361.0   \n",
       "3   226  ...  2347    68    48.0   616.0    52.0    71.0   33.0    84.0   \n",
       "4   434  ...  1749  4557   816.0  5203.0   592.0   277.0  730.0  1080.0   \n",
       "\n",
       "    69.0  70.0  \n",
       "0   2759   4.0  \n",
       "1  34622   2.0  \n",
       "2   6639   0.0  \n",
       "3   4607  11.0  \n",
       "4  55051   3.0  \n",
       "\n",
       "[5 rows x 38 columns]"
      ]
     },
     "execution_count": 2,
     "metadata": {},
     "output_type": "execute_result"
    }
   ],
   "source": [
    "#Creating dataframe from csv file\n",
    "cumsum = pd.read_csv('Citation_data/citation_cumsum.csv')\n",
    "cumsum.drop(columns=['cited_subcategory_id'], inplace=True)\n",
    "cumsum.head()"
   ]
  },
  {
   "cell_type": "code",
   "execution_count": 3,
   "metadata": {},
   "outputs": [
    {
     "name": "stdout",
     "output_type": "stream",
     "text": [
      "{'11.0': 34450.0, '12.0': 118776.0, '13.0': 69811.0, '14.0': 145211, '15.0': 316181.0, '19.0': 1135234.0, '21.0': 2225094, '22.0': 1734424, '23.0': 551711, '24.0': 929755, '25.0': 394138, '31.0': 836285, '32.0': 1903344, '33.0': 38624.0, '39.0': 288466.0, '41.0': 515988.0, '42.0': 311384.0, '43.0': 402288.0, '44.0': 202491, '45.0': 668994, '46.0': 1382027, '49.0': 443767, '51.0': 438593.0, '52.0': 189394.0, '53.0': 443811.0, '54.0': 275165.0, '55.0': 432591, '59.0': 581667.0, '61.0': 210849, '62.0': 340772, '63.0': 159414.0, '64.0': 314926.0, '65.0': 268276.0, '66.0': 99026.0, '67.0': 66433.0, '68.0': 199594.0, '69.0': 894599, '70.0': 0.0}\n"
     ]
    }
   ],
   "source": [
    "#Create dictionary of node weights\n",
    "node_weights = dict()\n",
    "row_number = 0\n",
    "for node in list(cumsum.columns):\n",
    "    node_weights[node] = cumsum.at[row_number, node]\n",
    "    row_number += 1\n",
    "print(node_weights)"
   ]
  },
  {
   "cell_type": "code",
   "execution_count": 4,
   "metadata": {},
   "outputs": [
    {
     "data": {
      "text/plain": [
       "[('11.0', {'weight': 34450.0}),\n",
       " ('12.0', {'weight': 118776.0}),\n",
       " ('13.0', {'weight': 69811.0}),\n",
       " ('14.0', {'weight': 145211}),\n",
       " ('15.0', {'weight': 316181.0}),\n",
       " ('19.0', {'weight': 1135234.0}),\n",
       " ('21.0', {'weight': 2225094}),\n",
       " ('22.0', {'weight': 1734424}),\n",
       " ('23.0', {'weight': 551711}),\n",
       " ('24.0', {'weight': 929755}),\n",
       " ('25.0', {'weight': 394138}),\n",
       " ('31.0', {'weight': 836285}),\n",
       " ('32.0', {'weight': 1903344}),\n",
       " ('33.0', {'weight': 38624.0}),\n",
       " ('39.0', {'weight': 288466.0}),\n",
       " ('41.0', {'weight': 515988.0}),\n",
       " ('42.0', {'weight': 311384.0}),\n",
       " ('43.0', {'weight': 402288.0}),\n",
       " ('44.0', {'weight': 202491}),\n",
       " ('45.0', {'weight': 668994}),\n",
       " ('46.0', {'weight': 1382027}),\n",
       " ('49.0', {'weight': 443767}),\n",
       " ('51.0', {'weight': 438593.0}),\n",
       " ('52.0', {'weight': 189394.0}),\n",
       " ('53.0', {'weight': 443811.0}),\n",
       " ('54.0', {'weight': 275165.0}),\n",
       " ('55.0', {'weight': 432591}),\n",
       " ('59.0', {'weight': 581667.0}),\n",
       " ('61.0', {'weight': 210849}),\n",
       " ('62.0', {'weight': 340772}),\n",
       " ('63.0', {'weight': 159414.0}),\n",
       " ('64.0', {'weight': 314926.0}),\n",
       " ('65.0', {'weight': 268276.0}),\n",
       " ('66.0', {'weight': 99026.0}),\n",
       " ('67.0', {'weight': 66433.0}),\n",
       " ('68.0', {'weight': 199594.0}),\n",
       " ('69.0', {'weight': 894599}),\n",
       " ('70.0', {'weight': 0.0})]"
      ]
     },
     "execution_count": 4,
     "metadata": {},
     "output_type": "execute_result"
    }
   ],
   "source": [
    "#Create graph and add nodes\n",
    "G = nx.MultiDiGraph()\n",
    "G.clear()\n",
    "for node in list(cumsum.columns):\n",
    "    G.add_node(node, weight=node_weights[node])\n",
    "list(G.nodes(data=True))"
   ]
  },
  {
   "cell_type": "code",
   "execution_count": 5,
   "metadata": {},
   "outputs": [],
   "source": [
    "#Add edges with weights\n",
    "row_number = 0\n",
    "for node_1 in list(cumsum.columns):\n",
    "    for node_2 in list(cumsum.columns):\n",
    "        if str(node_1) != str(node_2):\n",
    "            G.add_edge(node_1, node_2, weight=cumsum.at[row_number, node_2])\n",
    "    row_number += 1"
   ]
  },
  {
   "cell_type": "code",
   "execution_count": 6,
   "metadata": {},
   "outputs": [
    {
     "name": "stdout",
     "output_type": "stream",
     "text": [
      "[431.6352462686089, 759.6198550159143, 590.9856628530362, 837.5262953322688, 1236.37029201124, 2411.725840572819, 3459.732077857485, 3025.4816252509145, 1648.2454118206958, 2168.999045525241, 1384.3799126940746, 2050.72853717227, 3180.4964682656046, 453.3898136084011, 1179.9058825927475, 1591.724654434217, 1226.759618338361, 1399.0674768639537, 987.1625093129306, 1823.2396521847104, 2678.6836755864806, 1471.8553942345181, 1462.946221558033, 954.8110355606362, 1471.930959799614, 1151.9527129526402, 1452.5525746122998, 1694.3985951560367, 1007.3231038515847, 1284.6527237840578, 876.7700593746115, 1233.8622260198174, 1137.238886342664, 696.2333201178716, 577.6416029522851, 980.0885661103304, 2125.1641317640306, 100.0]\n"
     ]
    }
   ],
   "source": [
    "#Customize node and edge sizes according to size of internal and external linkage\n",
    "row_number = 0\n",
    "size_list = []\n",
    "edge_list = []\n",
    "for node in list(cumsum.columns):\n",
    "    size_list.append(abs((cumsum.at[row_number, node])**(1/1.8)) + 100)\n",
    "    row_number += 1\n",
    "print(size_list)"
   ]
  },
  {
   "cell_type": "code",
   "execution_count": 11,
   "metadata": {},
   "outputs": [
    {
     "name": "stdout",
     "output_type": "stream",
     "text": [
      "{'11.0': 0.1622214211307625, '12.0': 0.16222142113076254, '13.0': 0.16222142113076254, '14.0': 0.16222142113076257, '15.0': 0.16222142113076254, '19.0': 0.1622214211307625, '21.0': 0.1622214211307626, '22.0': 0.1622214211307625, '23.0': 0.16222142113076257, '24.0': 0.16222142113076252, '25.0': 0.16222142113076254, '31.0': 0.1622214211307626, '32.0': 0.16222142113076252, '33.0': 0.1622214211307625, '39.0': 0.1622214211307625, '41.0': 0.16222142113076254, '42.0': 0.16222142113076257, '43.0': 0.16222142113076246, '44.0': 0.16222142113076257, '45.0': 0.16222142113076252, '46.0': 0.1622214211307625, '49.0': 0.16222142113076254, '51.0': 0.16222142113076252, '52.0': 0.16222142113076252, '53.0': 0.16222142113076257, '54.0': 0.16222142113076254, '55.0': 0.16222142113076257, '59.0': 0.16222142113076254, '61.0': 0.16222142113076254, '62.0': 0.16222142113076252, '63.0': 0.16222142113076257, '64.0': 0.1622214211307626, '65.0': 0.1622214211307626, '66.0': 0.16222142113076254, '67.0': 0.16222142113076257, '68.0': 0.16222142113076257, '69.0': 0.16222142113076263, '70.0': 0.16222142113076257}\n"
     ]
    }
   ],
   "source": [
    "#Calculate eigenvector centrality\n",
    "evc = nx.eigenvector_centrality_numpy(G, weight='node_weights')\n",
    "\n",
    "#Rank eigenvector centralities\n",
    "sorted(evc, key=evc.get, reverse=True)\n",
    "ranked_evc = {key: rank for rank, key in enumerate(sorted(evc, key=evc.get, reverse=True), 1)}"
   ]
  },
  {
   "cell_type": "code",
   "execution_count": 26,
   "metadata": {},
   "outputs": [],
   "source": [
    "#Read in data\n",
    "string = 'Citation_data/5_year_citation_snapshot'\n",
    "csv = '.csv'\n",
    "year = np.array([1980, 1985, 1990, 1995, 2000, 2005, 2010])\n",
    "\n",
    "d = {}\n",
    "for y in year:\n",
    "    fName = string + str(y) + csv \n",
    "    \n",
    "    #Create a dataframe\n",
    "    temp = pd.read_csv(fName)\n",
    "    temp.drop(columns=['cited_subcategory_id'], inplace=True)\n",
    "    \n",
    "    #Create dictionary of node weights\n",
    "    node_weights = dict()\n",
    "    row_number = 0\n",
    "    for node in list(temp.columns):\n",
    "        node_weights[node] = temp.at[row_number, node]\n",
    "        row_number += 1\n",
    "    \n",
    "    #Create graph and add nodes\n",
    "    G = nx.MultiDiGraph()\n",
    "    G.clear()\n",
    "    for node in list(temp.columns):\n",
    "        G.add_node(node, weight=node_weights[node])\n",
    "    list(G.nodes(data=True))\n",
    "    \n",
    "    #Add edges with weights\n",
    "    row_number = 0\n",
    "    for node_1 in list(temp.columns):\n",
    "        for node_2 in list(temp.columns):\n",
    "            if str(node_1) != str(node_2):\n",
    "                G.add_edge(node_1, node_2, weight=temp.at[row_number, node_2])\n",
    "        row_number += 1\n",
    "    \n",
    "    #Customize node and edge sizes according to size of internal and external linkage\n",
    "    #No modifiers needed since we are calculating actual centralities\n",
    "    row_number = 0\n",
    "    size_list = []\n",
    "    edge_list = []\n",
    "    for node in list(temp.columns):\n",
    "        size_list.append(temp.at[row_number, node])\n",
    "        row_number += 1\n",
    "    \n",
    "    #Calculate eigenvector centrality\n",
    "    name = 'evc' + str(y)\n",
    "    d[name] = nx.eigenvector_centrality_numpy(G, weight='node_weights')\n",
    "    \n",
    "    #Rank eigenvector centralities\n",
    "    rname = 'ranked_evc' + str(y)\n",
    "    sorted(d[name], key=d[name].get, reverse=True)\n",
    "    d[rname] = {key: rank for rank, key in enumerate(sorted(d[name], key=d[name].get, reverse=True), 1)}"
   ]
  },
  {
   "cell_type": "code",
   "execution_count": 31,
   "metadata": {},
   "outputs": [
    {
     "data": {
      "text/plain": [
       "<AxesSubplot:>"
      ]
     },
     "execution_count": 31,
     "metadata": {},
     "output_type": "execute_result"
    },
    {
     "data": {
      "image/png": "[encoded data removed]",
      "text/plain": [
       "<Figure size 432x288 with 2 Axes>"
      ]
     },
     "metadata": {
      "needs_background": "light"
     },
     "output_type": "display_data"
    }
   ],
   "source": [
    "new = pd.DataFrame.from_dict(d)\n",
    "values = new[['evc1980', 'evc1985','evc1990','evc1995','evc2000','evc2005','evc2010']].copy()\n",
    "#Finally got Seaborn to work :D\n",
    "sns.heatmap(values)"
   ]
  },
  {
   "cell_type": "code",
   "execution_count": 32,
   "metadata": {},
   "outputs": [
    {
     "data": {
      "text/plain": [
       "<AxesSubplot:>"
      ]
     },
     "execution_count": 32,
     "metadata": {},
     "output_type": "execute_result"
    },
    {
     "data": {
      "image/png": "[encoded data removed]",
      "text/plain": [
       "<Figure size 432x288 with 2 Axes>"
      ]
     },
     "metadata": {
      "needs_background": "light"
     },
     "output_type": "display_data"
    }
   ],
   "source": [
    "ranked = new[['ranked_evc1980', 'ranked_evc1985','ranked_evc1990','ranked_evc1995','ranked_evc2000','ranked_evc2005','ranked_evc2010']].copy()\n",
    "sns.heatmap(ranked)"
   ]
  }
 ],
 "metadata": {
  "kernelspec": {
   "display_name": "Python 3",
   "language": "python",
   "name": "python3"
  },
  "language_info": {
   "codemirror_mode": {
    "name": "ipython",
    "version": 3
   },
   "file_extension": ".py",
   "mimetype": "text/x-python",
   "name": "python",
   "nbconvert_exporter": "python",
   "pygments_lexer": "ipython3",
   "version": "3.9.0"
  }
 },
 "nbformat": 4,
 "nbformat_minor": 4
}
