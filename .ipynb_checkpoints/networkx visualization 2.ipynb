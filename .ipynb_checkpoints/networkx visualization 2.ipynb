{
 "cells": [
  {
   "cell_type": "code",
   "execution_count": null,
   "metadata": {},
   "outputs": [],
   "source": [
    "import networkx as nx\n",
    "import pandas as pd\n",
    "import numpy as np\n",
    "import csv\n",
    "import seaborn as sns"
   ]
  },
  {
   "cell_type": "code",
   "execution_count": null,
   "metadata": {},
   "outputs": [],
   "source": [
    "#Creating dummy data for our dataframe\n",
    "index = list(range(10,48))\n",
    "data = np.random.randint(0,100,size=(38, 38))\n",
    "columns = index"
   ]
  },
  {
   "cell_type": "code",
   "execution_count": null,
   "metadata": {},
   "outputs": [],
   "source": [
    "#Creating dummy dataframes\n",
    "df = pd.DataFrame(data, columns, index)\n",
    "df.head()\n",
    "df_pct = pd.DataFrame(columns = columns, index = index, data = df/df[df.index].sum(),)\n",
    "df_pct.head()"
   ]
  },
  {
   "cell_type": "code",
   "execution_count": null,
   "metadata": {},
   "outputs": [],
   "source": [
    "#Create graph and add nodes\n",
    "G = nx.MultiDiGraph()\n",
    "G.clear()\n",
    "for node in list(df.index):\n",
    "    G.add_node(node)\n",
    "G.nodes()"
   ]
  },
  {
   "cell_type": "code",
   "execution_count": null,
   "metadata": {},
   "outputs": [],
   "source": [
    "#Add edges with weights\n",
    "for node_1 in list(df.index):\n",
    "    for node_2 in list(df.index):\n",
    "        G.add_edge(node_1, node_2, weight=df.iat[node_1 -10, node_2 - 10])\n",
    "\n",
    "#Check that weights have been added correctly by testing a subset        \n",
    "for (u, v, wt) in G.edges.data('weight'):\n",
    "    if int(wt) < 20:\n",
    "        print(f\"({u}, {v}, {wt})\")"
   ]
  },
  {
   "cell_type": "code",
   "execution_count": null,
   "metadata": {},
   "outputs": [],
   "source": [
    "#Visualize the graph\n",
    "import matplotlib.pyplot as plt\n",
    "import matplotlib as mpl\n",
    "\n",
    "pos = nx.layout.spring_layout(G)\n",
    "\n",
    "node_sizes = [3 + 10 * i for i in range(len(G))]\n",
    "M = G.number_of_edges()\n",
    "edge_colors = range(2, M + 2)\n",
    "edge_alphas = [(5 + i) / (M + 4) for i in range(M)]\n",
    "\n",
    "nodes = nx.draw_networkx_nodes(\n",
    "    G, \n",
    "    pos, \n",
    "    node_size=node_sizes, \n",
    "    node_color=\"blue\")\n",
    "edges = nx.draw_networkx_edges(\n",
    "    G,\n",
    "    pos,\n",
    "    node_size=node_sizes,\n",
    "    arrowstyle=\"->\",\n",
    "    arrowsize=10,\n",
    "    edge_color=edge_colors,\n",
    "    edge_cmap=plt.cm.Blues,\n",
    "    width=0.5,\n",
    ")\n",
    "\n",
    "# Labels for nodes -- to come later when all numbers have an applicable label\n",
    "labels={}\n",
    "# Example of how label works:\n",
    "# labels[11]=\"Agriculture,Food,Textiles\"    \n",
    "# nx.draw_networkx_labels(G,pos,labels,font_size=9)\n",
    "\n",
    "# set alpha value for each edge\n",
    "for i in range(M):\n",
    "    edges[i].set_alpha(edge_alphas[i])\n",
    "\n",
    "pc = mpl.collections.PatchCollection(edges, cmap=plt.cm.Blues)\n",
    "pc.set_array(edge_colors)\n",
    "plt.colorbar(pc)"
   ]
  },
  {
   "cell_type": "code",
   "execution_count": null,
   "metadata": {},
   "outputs": [],
   "source": [
    "#Visualize the heatmap\n",
    "hm = sns.heatmap(df_pct, cmap=\"Blues\", xticklabels=True, yticklabels=True)\n",
    "hm.set_ylabel(\"Cited Technology Field\")\n",
    "hm.set_xlabel(\"Cited Technology Field\")\n",
    "hm.xaxis.set_ticks_position('top')\n",
    "hm.xaxis.set_label_position('top')\n",
    "hm.collections[0].colorbar.set_label(\"Relative Citation Weight\")\n",
    "sns.set(font_scale=.7)\n",
    "plt.xticks(rotation=45)\n",
    "plt.yticks(rotation=45)"
   ]
  },
  {
   "cell_type": "code",
   "execution_count": null,
   "metadata": {},
   "outputs": [],
   "source": []
  }
 ],
 "metadata": {
  "kernelspec": {
   "display_name": "Python 3",
   "language": "python",
   "name": "python3"
  },
  "language_info": {
   "codemirror_mode": {
    "name": "ipython",
    "version": 3
   },
   "file_extension": ".py",
   "mimetype": "text/x-python",
   "name": "python",
   "nbconvert_exporter": "python",
   "pygments_lexer": "ipython3",
   "version": "3.8.3"
  }
 },
 "nbformat": 4,
 "nbformat_minor": 4
}
