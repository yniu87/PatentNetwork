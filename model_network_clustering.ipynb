{
 "cells": [
  {
   "cell_type": "code",
   "execution_count": 1,
   "metadata": {},
   "outputs": [],
   "source": [
    "from sklearn import cluster\n",
    "import networkx as nx\n",
    "from collections import defaultdict\n",
    "import matplotlib.pyplot as plt\n",
    "from matplotlib import colors, cm\n",
    "import seaborn as sns\n",
    "import pandas as pd\n",
    "import numpy as np\n",
    "from sklearn.metrics.cluster import normalized_mutual_info_score\n",
    "from sklearn.metrics.cluster import adjusted_rand_score"
   ]
  },
  {
   "cell_type": "code",
   "execution_count": 2,
   "metadata": {},
   "outputs": [],
   "source": [
    "import warnings\n",
    "warnings.filterwarnings(\"ignore\")"
   ]
  },
  {
   "cell_type": "markdown",
   "metadata": {},
   "source": [
    "https://www.learndatasci.com/tutorials/k-means-clustering-algorithms-python-intro/"
   ]
  },
  {
   "cell_type": "code",
   "execution_count": 3,
   "metadata": {},
   "outputs": [],
   "source": [
    "# this is from the exampple data set\n",
    "G = nx.karate_club_graph()"
   ]
  },
  {
   "cell_type": "code",
   "execution_count": 4,
   "metadata": {},
   "outputs": [],
   "source": [
    "# pos = nx.spring_layout(G)"
   ]
  },
  {
   "cell_type": "code",
   "execution_count": 5,
   "metadata": {},
   "outputs": [],
   "source": [
    "# True labels of the group each student (node) unded up in. Found via the original paper\n",
    "# y_true = [0, 0, 0, 0, 0, 0, 0, 0, 1, 1, 0, 0, 0, 0, 1, 1, 0, 0, 1, 0, 1, 0, 1, 1, 1, 1, 1, 1, 1, 1, 1, 1, 1, 1]"
   ]
  },
  {
   "cell_type": "code",
   "execution_count": 6,
   "metadata": {},
   "outputs": [],
   "source": [
    "# draw_communities(G, y_true, pos)"
   ]
  },
  {
   "cell_type": "code",
   "execution_count": 7,
   "metadata": {},
   "outputs": [],
   "source": [
    "def graph_to_edge_matrix(G):\n",
    "    \"\"\"Convert a networkx graph into an edge matrix.\n",
    "    See https://www.wikiwand.com/en/Incidence_matrix for a good explanation on edge matrices\n",
    "   \n",
    "    Parameters\n",
    "    ----------\n",
    "    G : networkx graph\n",
    "    \"\"\"\n",
    "    # Initialize edge matrix with zeros\n",
    "    edge_mat = np.zeros((len(G), len(G)), dtype=int)\n",
    "\n",
    "    # Loop to set 0 or 1 (diagonal elements are set to 1)\n",
    "    for node in G:\n",
    "        for neighbor in G.neighbors(node):\n",
    "            edge_mat[node][neighbor] = 1\n",
    "        edge_mat[node][node] = 1\n",
    "\n",
    "    return edge_mat"
   ]
  },
  {
   "cell_type": "markdown",
   "metadata": {},
   "source": [
    "### load the patent data set from citation network 2010~2015"
   ]
  },
  {
   "cell_type": "code",
   "execution_count": 8,
   "metadata": {},
   "outputs": [
    {
     "data": {
      "text/plain": [
       "array([[1, 1, 1, ..., 1, 0, 0],\n",
       "       [1, 1, 1, ..., 0, 0, 0],\n",
       "       [1, 1, 1, ..., 0, 1, 0],\n",
       "       ...,\n",
       "       [1, 0, 0, ..., 1, 1, 1],\n",
       "       [0, 0, 1, ..., 1, 1, 1],\n",
       "       [0, 0, 0, ..., 1, 1, 1]])"
      ]
     },
     "execution_count": 8,
     "metadata": {},
     "output_type": "execute_result"
    }
   ],
   "source": [
    "edge_mat = graph_to_edge_matrix(G)\n",
    "edge_mat"
   ]
  },
  {
   "cell_type": "code",
   "execution_count": 20,
   "metadata": {},
   "outputs": [
    {
     "data": {
      "text/plain": [
       "(7370, 7370)"
      ]
     },
     "execution_count": 20,
     "metadata": {},
     "output_type": "execute_result"
    }
   ],
   "source": [
    "edge_mat = np.load('edge_mat.npy')\n",
    "edge_mat.shape"
   ]
  },
  {
   "cell_type": "code",
   "execution_count": 21,
   "metadata": {
    "scrolled": true
   },
   "outputs": [
    {
     "data": {
      "text/plain": [
       "7370"
      ]
     },
     "execution_count": 21,
     "metadata": {},
     "output_type": "execute_result"
    }
   ],
   "source": [
    "y_true = np.load('true_label.npy').tolist()\n",
    "len(y_true)"
   ]
  },
  {
   "cell_type": "code",
   "execution_count": 22,
   "metadata": {},
   "outputs": [
    {
     "data": {
      "text/plain": [
       "37"
      ]
     },
     "execution_count": 22,
     "metadata": {},
     "output_type": "execute_result"
    }
   ],
   "source": [
    "# 36 unique classes\n",
    "len(list(set(y_true)))"
   ]
  },
  {
   "cell_type": "code",
   "execution_count": 10,
   "metadata": {},
   "outputs": [],
   "source": [
    "# size = 5_000  # 8 mins for the k-means to run\n",
    "# size = 50\n",
    "# edge_mat = np.random.rand(size,size)\n",
    "# y_true = np.random.randint(5, size=size).tolist()"
   ]
  },
  {
   "cell_type": "code",
   "execution_count": 23,
   "metadata": {},
   "outputs": [],
   "source": [
    "k_clusters = 36\n",
    "results = []\n",
    "algorithms = {}\n",
    "\n",
    "algorithms['kmeans'] = cluster.KMeans(n_clusters=k_clusters, n_init=100, max_iter=100)"
   ]
  },
  {
   "cell_type": "code",
   "execution_count": 24,
   "metadata": {},
   "outputs": [],
   "source": [
    "# algorithms['agglom'] = cluster.AgglomerativeClustering(n_clusters=k_clusters, linkage=\"ward\")"
   ]
  },
  {
   "cell_type": "code",
   "execution_count": 25,
   "metadata": {},
   "outputs": [],
   "source": [
    "# algorithms['spectral'] = cluster.SpectralClustering(n_clusters=k_clusters, affinity=\"precomputed\", n_init=200)"
   ]
  },
  {
   "cell_type": "code",
   "execution_count": 26,
   "metadata": {},
   "outputs": [],
   "source": [
    "# algorithms['affinity'] = cluster.AffinityPropagation(damping=0.6)"
   ]
  },
  {
   "cell_type": "code",
   "execution_count": 27,
   "metadata": {},
   "outputs": [
    {
     "name": "stdout",
     "output_type": "stream",
     "text": [
      "CPU times: user 19min 54s, sys: 1min 30s, total: 21min 24s\n",
      "Wall time: 14min 14s\n"
     ]
    }
   ],
   "source": [
    "%%time\n",
    "# Fit all models\n",
    "for model in algorithms.values():\n",
    "    model.fit(edge_mat)\n",
    "    results.append(list(model.labels_))"
   ]
  },
  {
   "cell_type": "code",
   "execution_count": 28,
   "metadata": {},
   "outputs": [],
   "source": [
    "np.save('results.npy', results)\n",
    "# results = np.load('results.npy')"
   ]
  },
  {
   "cell_type": "code",
   "execution_count": 29,
   "metadata": {},
   "outputs": [],
   "source": [
    "nmi_results = []\n",
    "ars_results = []\n",
    "\n",
    "y_true_val = list(y_true)\n",
    "\n",
    "# Append the results into lists\n",
    "for y_pred in results:\n",
    "    nmi_results.append(normalized_mutual_info_score(y_true_val, y_pred))\n",
    "    ars_results.append(adjusted_rand_score(y_true_val, y_pred))"
   ]
  },
  {
   "cell_type": "code",
   "execution_count": 30,
   "metadata": {},
   "outputs": [
    {
     "data": {
      "image/png": "[encoded data removed]",
      "text/plain": [
       "<Figure size 1152x360 with 3 Axes>"
      ]
     },
     "metadata": {
      "needs_background": "light"
     },
     "output_type": "display_data"
    }
   ],
   "source": [
    "fig, (ax1, ax2, ax3) = plt.subplots(1, 3, sharey=True, figsize=(16, 5))\n",
    "\n",
    "x = np.arange(len(results))\n",
    "avg = [sum(x) / 2 for x in zip(nmi_results, ars_results)]\n",
    "\n",
    "xlabels = list(algorithms.keys())\n",
    "\n",
    "sns.barplot(x, nmi_results, palette='Blues', ax=ax1)\n",
    "sns.barplot(x, ars_results, palette='Reds', ax=ax2)\n",
    "sns.barplot(x, avg, palette='Greens', ax=ax3)\n",
    "\n",
    "ax1.set_ylabel('NMI Score')\n",
    "ax2.set_ylabel('ARS Score')\n",
    "ax3.set_ylabel('Average Score')\n",
    "\n",
    "# # Add the xlabels to the chart\n",
    "ax1.set_xticklabels(xlabels)\n",
    "ax2.set_xticklabels(xlabels)\n",
    "ax3.set_xticklabels(xlabels)\n",
    "\n",
    "# Add the actual value on top of each bar\n",
    "for i, v in enumerate(zip(nmi_results, ars_results, avg)):\n",
    "    ax1.text(i - 0.1, v[0] + 0.01, str(round(v[0], 2)))\n",
    "    ax2.text(i - 0.1, v[1] + 0.01, str(round(v[1], 2)))\n",
    "    ax3.text(i - 0.1, v[2] + 0.01, str(round(v[2], 2)))\n",
    "\n",
    "# Show the final plot\n",
    "plt.show()"
   ]
  },
  {
   "cell_type": "code",
   "execution_count": null,
   "metadata": {},
   "outputs": [],
   "source": []
  }
 ],
 "metadata": {
  "kernelspec": {
   "display_name": "Python 3",
   "language": "python",
   "name": "python3"
  },
  "language_info": {
   "codemirror_mode": {
    "name": "ipython",
    "version": 3
   },
   "file_extension": ".py",
   "mimetype": "text/x-python",
   "name": "python",
   "nbconvert_exporter": "python",
   "pygments_lexer": "ipython3",
   "version": "3.7.3"
  }
 },
 "nbformat": 4,
 "nbformat_minor": 2
}
